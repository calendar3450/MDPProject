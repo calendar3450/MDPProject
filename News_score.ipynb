{
 "cells": [
  {
   "cell_type": "code",
   "execution_count": 65,
   "id": "5f7c8494",
   "metadata": {},
   "outputs": [
    {
     "name": "stdout",
     "output_type": "stream",
     "text": [
      "Sent {'neg': 0.024, 'neu': 0.784, 'pos': 0.192, 'compound': 0.985}\n",
      "Compound:  0.985\n"
     ]
    },
    {
     "name": "stderr",
     "output_type": "stream",
     "text": [
      "[nltk_data] Error loading vader_lexicon: <urlopen error [Errno 61]\n",
      "[nltk_data]     Connection refused>\n"
     ]
    }
   ],
   "source": [
    "import nltk\n",
    "import yfinance as yf\n",
    "nltk.download('vader_lexicon')\n",
    "\n",
    "from nltk.sentiment import SentimentIntensityAnalyzer\n",
    "\n",
    "sia = SentimentIntensityAnalyzer()\n",
    "\n",
    "# News: https://finance.yahoo.com/news/yum-brands-nyse-yum-ceo-173431140.html\n",
    "news_text = \"\"\"\n",
    "Yum! Brands is experiencing a significant transition as CEO David Gibbs announces his retirement. Despite broader market challenges, with major indexes like the S&P 500 and Nasdaq reflecting substantial declines over the past month, Yum! Brands' stock price rose 16% last quarter. This increase coincides with strong performance in its digital initiatives under Gibbs' tenure and recent positive developments such as the launch of AI solutions, a new product line, and a dividend increase. While the market faced volatility, YUM maintained an upward trajectory, indicating that these strategic moves positively influenced investor sentiment.\n",
    "We ve identified 4 possible red flags with Yum! Brands (at least 2 which are a bit concerning) and understanding the impact should be part of your investment process.\n",
    "Despite challenges like geopolitical disruptions impacting KFC's same-store sales, Yum! Brands outperformed the US Hospitality industry, which returned 1.3% over the past year. Shareholder returns were also supported by share buybacks, with nearly 3 million shares repurchased since mid-2024, indicating confidence in the company’s growth trajectory. These factors, alongside strategic leadership transitions, underscore the company's sustained upward momentum amid fluctuating market conditions. \"\n",
    "\"\"\"\n",
    "\n",
    "# neg : negative, neu: neutural, pos: postive, compound : score which is positive or negative. (Score range: -1 ~ 1)\n",
    "sentiment_scores = sia.polarity_scores(news_text)\n",
    "\n",
    "print('Sent', sentiment_scores)\n",
    "print('Compound: ',sentiment_scores.get('compound',0.0))"
   ]
  },
  {
   "cell_type": "code",
   "execution_count": 59,
   "id": "b253044f-58a8-445a-a849-69530409e3e4",
   "metadata": {},
   "outputs": [
    {
     "name": "stdout",
     "output_type": "stream",
     "text": [
      "[\"Key Insights Institutions' substantial holdings in Yum! Brands implies that they have significant influence over the...\", 'Looking back on traditional fast food stocks’ Q4 earnings, we examine this quarter’s best and worst performers, including Yum! Brands (NYSE:YUM) and its peers.', 'Yum (YUM) could produce exceptional returns because of its solid growth attributes.', 'Taco Bell’s Australian franchise operator is exiting the business after the Mexican fast-food chain failed to meet its expectations.', 'This is what could happen next with shares of Yum Brands.', \"Senior Reporter Brooke DiPalma joins Market Domination to discuss how franchise operators like McDonald's (MCD) and Yum! Brands (YUM) and fast casual restaurants like Chipotle (CMG) and Cava (CAVA) are reacting to tariffs. To watch more expert insights and analysis on the latest market action, check out more Market Domination here.\", \"Fast food restaurants have been mostly spared from the impact of Trump's tariffs.\", 'While the broader market has struggled with the S&P 500 down 1.7% since October 2024, Yum! Brands has surged ahead as its stock price has climbed by 13.6% to $158.53 per share. This was partly thanks to its solid quarterly results, and the performance may have investors wondering how to approach the situation.', \"Yum! Brands (NYSE:YUM) is experiencing a significant transition as CEO David Gibbs announces his retirement. Despite broader market challenges, with major indexes like the S&P 500 and Nasdaq reflecting substantial declines over the past month, Yum! Brands' stock price rose 16% last quarter. This increase coincides with strong performance in its digital initiatives under Gibbs' tenure and recent positive developments such as the launch of AI solutions, a new product line, and a dividend...\", 'Here are some stocks on the move for Monday, March 31. Yum Brands (YUM) is searching for a new CEO as current head David Gibbs plans to retire in early 2026, after 36 years with the company. Corcept Therapeutics (CORT) shares are rising after a successful trial for its ovarian cancer drug. Shares of Hut 8 (HUT) are on the move after announcing a new venture with the Trump family to launch a bitcoin mining venture. To watch more expert insights and analysis on the latest market action, check out more Wealth&nbsp;here.']\n"
     ]
    }
   ],
   "source": [
    "ticker = yf.Ticker(\"YUM\")\n",
    "summaryList=[]\n",
    "for article in ticker.news:\n",
    "    summaryList.append(article[\"content\"][\"summary\"])\n",
    "    \n",
    "print(summaryList)"
   ]
  },
  {
   "cell_type": "code",
   "execution_count": 73,
   "id": "69d537ae-e83a-4808-a269-221bcf3649eb",
   "metadata": {},
   "outputs": [
    {
     "name": "stdout",
     "output_type": "stream",
     "text": [
      "[0.4389, 0.1007, 0.4939, -0.5106, 0.296, 0.69, 0.0, 0.5104, 0.9367, 0.4215]\n"
     ]
    }
   ],
   "source": [
    "totalScore = []\n",
    "\n",
    "for i in summaryList:\n",
    "    sentiment_scores = sia.polarity_scores(i)\n",
    "    totalScore.append(sentiment_scores)\n",
    "    \n",
    "compoundScore = [s['compound'] for s in totalScore]\n",
    "print(compoundScore)"
   ]
  },
  {
   "cell_type": "code",
   "execution_count": 91,
   "id": "a6d6fb3f-5351-4c91-8227-a8615150623b",
   "metadata": {},
   "outputs": [
    {
     "name": "stdout",
     "output_type": "stream",
     "text": [
      "- {'neg': 0.0, 'neu': 0.782, 'pos': 0.218, 'compound': 0.4389}\n",
      "= Key Insights Institutions' substantial holdings in Yum! Brands implies that they have significant influence over the...\n",
      "- {'neg': 0.134, 'neu': 0.719, 'pos': 0.147, 'compound': 0.1007}\n",
      "= Looking back on traditional fast food stocks’ Q4 earnings, we examine this quarter’s best and worst performers, including Yum! Brands (NYSE:YUM) and its peers.\n",
      "- {'neg': 0.0, 'neu': 0.704, 'pos': 0.296, 'compound': 0.4939}\n",
      "= Yum (YUM) could produce exceptional returns because of its solid growth attributes.\n",
      "- {'neg': 0.155, 'neu': 0.845, 'pos': 0.0, 'compound': -0.5106}\n",
      "= Taco Bell’s Australian franchise operator is exiting the business after the Mexican fast-food chain failed to meet its expectations.\n",
      "- {'neg': 0.0, 'neu': 0.82, 'pos': 0.18, 'compound': 0.296}\n",
      "= This is what could happen next with shares of Yum Brands.\n",
      "- {'neg': 0.043, 'neu': 0.829, 'pos': 0.128, 'compound': 0.69}\n",
      "= Senior Reporter Brooke DiPalma joins Market Domination to discuss how franchise operators like McDonald's (MCD) and Yum! Brands (YUM) and fast casual restaurants like Chipotle (CMG) and Cava (CAVA) are reacting to tariffs. To watch more expert insights and analysis on the latest market action, check out more Market Domination here.\n",
      "- {'neg': 0.0, 'neu': 1.0, 'pos': 0.0, 'compound': 0.0}\n",
      "= Fast food restaurants have been mostly spared from the impact of Trump's tariffs.\n",
      "- {'neg': 0.041, 'neu': 0.843, 'pos': 0.115, 'compound': 0.5104}\n",
      "= While the broader market has struggled with the S&P 500 down 1.7% since October 2024, Yum! Brands has surged ahead as its stock price has climbed by 13.6% to $158.53 per share. This was partly thanks to its solid quarterly results, and the performance may have investors wondering how to approach the situation.\n",
      "- {'neg': 0.015, 'neu': 0.77, 'pos': 0.215, 'compound': 0.9367}\n",
      "= Yum! Brands (NYSE:YUM) is experiencing a significant transition as CEO David Gibbs announces his retirement. Despite broader market challenges, with major indexes like the S&P 500 and Nasdaq reflecting substantial declines over the past month, Yum! Brands' stock price rose 16% last quarter. This increase coincides with strong performance in its digital initiatives under Gibbs' tenure and recent positive developments such as the launch of AI solutions, a new product line, and a dividend...\n",
      "- {'neg': 0.046, 'neu': 0.868, 'pos': 0.086, 'compound': 0.4215}\n",
      "= Here are some stocks on the move for Monday, March 31. Yum Brands (YUM) is searching for a new CEO as current head David Gibbs plans to retire in early 2026, after 36 years with the company. Corcept Therapeutics (CORT) shares are rising after a successful trial for its ovarian cancer drug. Shares of Hut 8 (HUT) are on the move after announcing a new venture with the Trump family to launch a bitcoin mining venture. To watch more expert insights and analysis on the latest market action, check out more Wealth&nbsp;here.\n",
      "0.33775\n"
     ]
    }
   ],
   "source": [
    "for j,k in enumerate(totalScore):\n",
    "    print('-',k)\n",
    "    print('=',summaryList[j])\n",
    "    \n",
    "avgCompound = sum(compoundScore)/len(compoundScore)\n",
    "print(avgCompound)"
   ]
  }
 ],
 "metadata": {
  "kernelspec": {
   "display_name": "Python [conda env:base] *",
   "language": "python",
   "name": "conda-base-py"
  },
  "language_info": {
   "codemirror_mode": {
    "name": "ipython",
    "version": 3
   },
   "file_extension": ".py",
   "mimetype": "text/x-python",
   "name": "python",
   "nbconvert_exporter": "python",
   "pygments_lexer": "ipython3",
   "version": "3.12.7"
  }
 },
 "nbformat": 4,
 "nbformat_minor": 5
}
