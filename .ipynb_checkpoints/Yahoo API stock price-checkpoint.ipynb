{
 "cells": [
  {
   "cell_type": "markdown",
   "id": "bb5fda89",
   "metadata": {},
   "source": [
    "# 20 Stock Price\n",
    "\n",
    "20 Big tech company stock price: Apple, Nvidia, Microsoft, Alphabet ,Amazon, Meta, Boradcom, Tesla, Oracle ,Netflex, Salesforce, AMD, Adobe, Cisco, IBM, Service Now, Qualcomm, Texas Instrument, Uber, Intuit.\n"
   ]
  },
  {
   "cell_type": "markdown",
   "id": "f84f2e45",
   "metadata": {},
   "source": [
    "# Yahoo API\n",
    "Install API in Yahoo finance"
   ]
  },
  {
   "cell_type": "code",
   "execution_count": 3,
   "id": "dea62d68",
   "metadata": {},
   "outputs": [
    {
     "name": "stdout",
     "output_type": "stream",
     "text": [
      "Collecting yfinance\n",
      "  Downloading yfinance-0.2.55-py2.py3-none-any.whl.metadata (5.8 kB)\n",
      "Requirement already satisfied: pandas>=1.3.0 in /opt/anaconda3/lib/python3.12/site-packages (from yfinance) (2.2.2)\n",
      "Requirement already satisfied: numpy>=1.16.5 in /opt/anaconda3/lib/python3.12/site-packages (from yfinance) (1.26.4)\n",
      "Requirement already satisfied: requests>=2.31 in /opt/anaconda3/lib/python3.12/site-packages (from yfinance) (2.32.3)\n",
      "Collecting multitasking>=0.0.7 (from yfinance)\n",
      "  Using cached multitasking-0.0.11-py3-none-any.whl.metadata (5.5 kB)\n",
      "Requirement already satisfied: platformdirs>=2.0.0 in /opt/anaconda3/lib/python3.12/site-packages (from yfinance) (3.10.0)\n",
      "Requirement already satisfied: pytz>=2022.5 in /opt/anaconda3/lib/python3.12/site-packages (from yfinance) (2024.1)\n",
      "Requirement already satisfied: frozendict>=2.3.4 in /opt/anaconda3/lib/python3.12/site-packages (from yfinance) (2.4.2)\n",
      "Collecting peewee>=3.16.2 (from yfinance)\n",
      "  Downloading peewee-3.17.9.tar.gz (3.0 MB)\n",
      "\u001b[2K     \u001b[90m━━━━━━━━━━━━━━━━━━━━━━━━━━━━━━━━━━━━━━━━\u001b[0m \u001b[32m3.0/3.0 MB\u001b[0m \u001b[31m11.6 MB/s\u001b[0m eta \u001b[36m0:00:00\u001b[0m \u001b[36m0:00:01\u001b[0m\n",
      "\u001b[?25h  Installing build dependencies ... \u001b[?25ldone\n",
      "\u001b[?25h  Getting requirements to build wheel ... \u001b[?25ldone\n",
      "\u001b[?25h  Preparing metadata (pyproject.toml) ... \u001b[?25ldone\n",
      "\u001b[?25hRequirement already satisfied: beautifulsoup4>=4.11.1 in /opt/anaconda3/lib/python3.12/site-packages (from yfinance) (4.12.3)\n",
      "Requirement already satisfied: soupsieve>1.2 in /opt/anaconda3/lib/python3.12/site-packages (from beautifulsoup4>=4.11.1->yfinance) (2.5)\n",
      "Requirement already satisfied: python-dateutil>=2.8.2 in /opt/anaconda3/lib/python3.12/site-packages (from pandas>=1.3.0->yfinance) (2.9.0.post0)\n",
      "Requirement already satisfied: tzdata>=2022.7 in /opt/anaconda3/lib/python3.12/site-packages (from pandas>=1.3.0->yfinance) (2023.3)\n",
      "Requirement already satisfied: charset-normalizer<4,>=2 in /opt/anaconda3/lib/python3.12/site-packages (from requests>=2.31->yfinance) (3.3.2)\n",
      "Requirement already satisfied: idna<4,>=2.5 in /opt/anaconda3/lib/python3.12/site-packages (from requests>=2.31->yfinance) (3.7)\n",
      "Requirement already satisfied: urllib3<3,>=1.21.1 in /opt/anaconda3/lib/python3.12/site-packages (from requests>=2.31->yfinance) (2.2.3)\n",
      "Requirement already satisfied: certifi>=2017.4.17 in /opt/anaconda3/lib/python3.12/site-packages (from requests>=2.31->yfinance) (2024.12.14)\n",
      "Requirement already satisfied: six>=1.5 in /opt/anaconda3/lib/python3.12/site-packages (from python-dateutil>=2.8.2->pandas>=1.3.0->yfinance) (1.16.0)\n",
      "Downloading yfinance-0.2.55-py2.py3-none-any.whl (109 kB)\n",
      "Using cached multitasking-0.0.11-py3-none-any.whl (8.5 kB)\n",
      "Building wheels for collected packages: peewee\n",
      "  Building wheel for peewee (pyproject.toml) ... \u001b[?25ldone\n",
      "\u001b[?25h  Created wheel for peewee: filename=peewee-3.17.9-cp312-cp312-macosx_11_0_arm64.whl size=264338 sha256=37b79cb0657289e7792ce25355788163487e311acb221fea541c0dfdb322b034\n",
      "  Stored in directory: /Users/min-jungki/Library/Caches/pip/wheels/43/ef/2d/2c51d496bf084945ffdf838b4cc8767b8ba1cc20eb41588831\n",
      "Successfully built peewee\n",
      "Installing collected packages: peewee, multitasking, yfinance\n",
      "Successfully installed multitasking-0.0.11 peewee-3.17.9 yfinance-0.2.55\n",
      "Note: you may need to restart the kernel to use updated packages.\n"
     ]
    }
   ],
   "source": [
    "pip install yfinance"
   ]
  },
  {
   "cell_type": "markdown",
   "id": "b61f1768",
   "metadata": {},
   "source": [
    "# Apple 주가 가져오기.\n",
    "\n",
    "기간은 여기서'1d', '5d', '1mo', '3mo', '6mo', '1y', '2y', '5y', '10y', 'ytd', 'max'에서 고르기.\n"
   ]
  },
  {
   "cell_type": "code",
   "execution_count": 5,
   "id": "52cc71af",
   "metadata": {},
   "outputs": [],
   "source": [
    "import yfinance as yf\n",
    "import pandas as pd"
   ]
  },
  {
   "cell_type": "code",
   "execution_count": 7,
   "id": "652fcf0c",
   "metadata": {},
   "outputs": [
    {
     "name": "stdout",
     "output_type": "stream",
     "text": [
      "188.3800048828125\n"
     ]
    }
   ],
   "source": [
    "#Apple Stock Price.\n",
    "\n",
    "data_Ticker_AAPL = yf.Ticker(\"AAPL\")\n",
    "data_AAPL=data_Ticker_AAPL.history(period=\"1d\")\n",
    "close_price_AAPL = data_AAPL['Close'].values[0]\n",
    "print(close_price_AAPL)\n"
   ]
  },
  {
   "cell_type": "markdown",
   "id": "b86115ff",
   "metadata": {},
   "source": [
    "# Nvidia주가 가져오기(NVDA)\n",
    "기간은 여기서'1d', '5d', '1mo', '3mo', '6mo', '1y', '2y', '5y', '10y', 'ytd', 'max'에서 고르기."
   ]
  },
  {
   "cell_type": "code",
   "execution_count": 10,
   "id": "3d54e5ba",
   "metadata": {},
   "outputs": [
    {
     "name": "stdout",
     "output_type": "stream",
     "text": [
      "94.30999755859375\n"
     ]
    }
   ],
   "source": [
    "#Nvidia Stock Price.\n",
    "\n",
    "data_Ticker_NVDA = yf.Ticker(\"NVDA\")\n",
    "data_NVDA=data_Ticker_NVDA.history(period=\"1d\")\n",
    "close_price_NVDA = data_NVDA['Close'].values[0]\n",
    "print(close_price_NVDA)"
   ]
  },
  {
   "cell_type": "markdown",
   "id": "9ad6f338",
   "metadata": {},
   "source": [
    "# Microsoft주가 가져오기(MSFT)\n",
    "기간은 여기서'1d', '5d', '1mo', '3mo', '6mo', '1y', '2y', '5y', '10y', 'ytd', 'max'에서 고르기."
   ]
  },
  {
   "cell_type": "code",
   "execution_count": 12,
   "id": "13e5852b",
   "metadata": {},
   "outputs": [
    {
     "name": "stdout",
     "output_type": "stream",
     "text": [
      "359.8399963378906\n"
     ]
    }
   ],
   "source": [
    "#Microsoft 주가 가져오기.\n",
    "data_Ticker_MSFT = yf.Ticker(\"MSFT\")\n",
    "data_MSFT=data_Ticker_MSFT.history(period=\"1d\")\n",
    "close_price_MSFT = data_MSFT['Close'].values[0]\n",
    "print(close_price_MSFT)"
   ]
  },
  {
   "cell_type": "markdown",
   "id": "6ee5bb3c",
   "metadata": {},
   "source": [
    "# Alphabet,Amazon, Meta, Boradcom, Tesla, Oracle, Netflix, Salesforce, AMD\n",
    "기간은 여기서'1d', '5d', '1mo', '3mo', '6mo', '1y', '2y', '5y', '10y', 'ytd', 'max'에서 고르기."
   ]
  },
  {
   "cell_type": "code",
   "execution_count": 14,
   "id": "14b9feb5",
   "metadata": {},
   "outputs": [],
   "source": [
    "#9개 주가 가져오기.\n",
    "#Alphabet\n",
    "\n",
    "data_Ticker_GOOG = yf.Ticker(\"GOOG\")\n",
    "data_GOOG=data_Ticker_GOOG.history(period=\"1d\")\n",
    "close_price_GOOG = data_GOOG['Close'].values[0]\n",
    "\n",
    "#Amazon\n",
    "data_Ticker_AMZN = yf.Ticker(\"AMZN\")\n",
    "data_AMZN=data_Ticker_AMZN.history(period=\"1d\")\n",
    "close_price_AMZN = data_AMZN['Close'].values[0]\n",
    "\n",
    "#Meta\n",
    "data_Ticker_META = yf.Ticker(\"META\")\n",
    "data_META=data_Ticker_META.history(period=\"1d\")\n",
    "close_price_META = data_META['Close'].values[0]\n",
    "\n",
    "#Boradcom\n",
    "data_Ticker_AVGO = yf.Ticker(\"AVGO\")\n",
    "data_AVGO=data_Ticker_AVGO.history(period=\"1d\")\n",
    "close_price_AVGO = data_AVGO['Close'].values[0]\n",
    "\n",
    "#Tesla\n",
    "data_Ticker_TSLA = yf.Ticker(\"TSLA\")\n",
    "data_TSLA=data_Ticker_TSLA.history(period=\"1d\")\n",
    "close_price_TSLA = data_TSLA['Close'].values[0]\n",
    "\n",
    "#Oracle\n",
    "data_Ticker_ORCL = yf.Ticker(\"ORCL\")\n",
    "data_ORCL=data_Ticker_ORCL.history(period=\"1d\")\n",
    "close_price_ORCL = data_ORCL['Close'].values[0]\n",
    "\n",
    "#Netflix\n",
    "data_Ticker_NFLX = yf.Ticker(\"NFLX\")\n",
    "data_NFLX=data_Ticker_NFLX.history(period=\"1d\")\n",
    "close_price_NFLX = data_NFLX['Close'].values[0]\n",
    "\n",
    "#Salesforce\n",
    "data_Ticker_CRM = yf.Ticker(\"CRM\")\n",
    "data_CRM = data_Ticker_CRM.history(period=\"1d\")\n",
    "close_price_CRM = data_CRM['Close'].values[0]\n",
    "\n",
    "#AMD\n",
    "data_Ticker_AMD = yf.Ticker(\"AMD\")\n",
    "data_AMD=data_Ticker_AMD.history(period=\"1d\")\n",
    "close_price_AMD = data_AMD['Close'].values[0]\n"
   ]
  },
  {
   "cell_type": "code",
   "execution_count": 32,
   "id": "f2502a3e",
   "metadata": {},
   "outputs": [
    {
     "name": "stdout",
     "output_type": "stream",
     "text": [
      "Alphabet: $147.74, Amazon: $(171, 2), Meta: $(505, 2), Broadcom: $146.29, Tesla: $239.43, Oracle: $128.27, Netflix: $855.86, Saleforce: $240.76, AMD: $85.76\n"
     ]
    }
   ],
   "source": [
    "#print Result.total 12 company. Adobe, Cisco, IBM, Service Now, Qualcomm, Texas Instrument, Uber, Intuit remained.\n",
    "print(f'Alphabet: ${round(close_price_GOOG,2)}, Amazon: ${round(close_price_AMZN),2}, Meta: ${round(close_price_META),2}, Broadcom: ${round(close_price_AVGO,2)}, Tesla: ${round(close_price_TSLA,2)}, Oracle: ${round(close_price_ORCL,2)}, Netflix: ${round(close_price_NFLX,2)}, Saleforce: ${round(close_price_CRM,2)}, AMD: ${round(close_price_AMD,2)}')\n"
   ]
  },
  {
   "cell_type": "code",
   "execution_count": 34,
   "id": "1ca03aed",
   "metadata": {},
   "outputs": [],
   "source": [
    "#Adobe\n",
    "data_Ticker_ADBE = yf.Ticker(\"ADBE\")\n",
    "data_ADBE = data_Ticker_ADBE.history(period=\"1d\")\n",
    "close_price_ADBE = data_ADBE['Close'].values[0]\n",
    "\n",
    "#Cisco Systems\n",
    "data_Ticker_CSCO = yf.Ticker(\"CSCO\")\n",
    "data_CSCO = data_Ticker_CSCO.history(period=\"1d\")\n",
    "close_price_CSCO = data_CSCO['Close'].values[0]\n",
    "\n",
    "#IBM\n",
    "data_Ticker_IBM = yf.Ticker(\"IBM\")\n",
    "data_IBM = data_Ticker_IBM.history(period=\"1d\")\n",
    "close_price_IBM = data_IBM['Close'].values[0]\n",
    "\n",
    "#Service Now\n",
    "data_Ticker_NOW = yf.Ticker(\"NOW\")\n",
    "data_NOW = data_Ticker_NOW.history(period=\"1d\")\n",
    "close_price_NOW = data_NOW['Close'].values[0]\n",
    "\n",
    "#Qualcomm\n",
    "data_Ticker_QCOM = yf.Ticker(\"QCOM\")\n",
    "data_QCOM = data_Ticker_QCOM.history(period=\"1d\")\n",
    "close_price_QCOM = data_QCOM['Close'].values[0]\n",
    "\n",
    "#Texas Instrument\n",
    "data_Ticker_TXN = yf.Ticker(\"TXN\")\n",
    "data_TXN = data_Ticker_TXN.history(period=\"1d\")\n",
    "close_price_TXN = data_TXN['Close'].values[0]\n",
    "\n",
    "#UBER\n",
    "data_Ticker_UBER = yf.Ticker(\"UBER\")\n",
    "data_UBER = data_Ticker_UBER.history(period=\"1d\")\n",
    "close_price_UBER = data_UBER['Close'].values[0]\n",
    "\n",
    "#ISRG\n",
    "data_Ticker_ISRG = yf.Ticker(\"ISRG\")\n",
    "data_ISRG = data_Ticker_ISRG.history(period=\"1d\")\n",
    "close_price_ISRG = data_ISRG['Close'].values[0]"
   ]
  },
  {
   "cell_type": "code",
   "execution_count": 35,
   "id": "4fd960be",
   "metadata": {},
   "outputs": [
    {
     "name": "stdout",
     "output_type": "stream",
     "text": [
      "Adobe: $349.07, Cisco Systems: $54.54, IBM: $227.48, Service Now: $721.65, Qualcomm: $127.46, Texas Instrument: $151.39, UBER: $64.62, Intuitive Surgical: $451.58\n"
     ]
    }
   ],
   "source": [
    "print(f'Adobe: ${round(close_price_ADBE,2)}, Cisco Systems: ${round(close_price_CSCO,2)}, IBM: ${round(close_price_IBM,2)}, Service Now: ${round(close_price_NOW,2)}, Qualcomm: ${round(close_price_QCOM,2)}, Texas Instrument: ${round(close_price_TXN,2)}, UBER: ${round(close_price_UBER,2)}, Intuitive Surgical: ${round(close_price_ISRG,2)}')\n"
   ]
  },
  {
   "cell_type": "markdown",
   "id": "089c39a0-bb5f-4e00-b119-01d8cb9031a7",
   "metadata": {},
   "source": [
    "## Combine all of stock price in CSV"
   ]
  },
  {
   "cell_type": "code",
   "execution_count": 39,
   "id": "5b5ddfc1-ae61-4133-ad3f-acb8b2eb3124",
   "metadata": {},
   "outputs": [],
   "source": [
    "data_AAPL=data_Ticker_AAPL.history(period=\"max\")\n",
    "data_NVDA=data_Ticker_NVDA.history(period=\"max\")\n",
    "data_MSFT=data_Ticker_MSFT.history(period=\"max\")\n",
    "data_GOOG=data_Ticker_GOOG.history(period=\"max\")\n",
    "data_AMZN=data_Ticker_AMZN.history(period=\"max\")\n",
    "data_META=data_Ticker_META.history(period=\"max\")\n",
    "data_AVGO=data_Ticker_AVGO.history(period=\"max\")\n",
    "data_TSLA=data_Ticker_TSLA.history(period=\"max\")\n",
    "data_ORCL=data_Ticker_ORCL.history(period=\"max\")\n",
    "data_NFLX=data_Ticker_NFLX.history(period=\"max\")\n",
    "data_CRM = data_Ticker_CRM.history(period=\"max\")\n",
    "data_AMD = data_Ticker_AMD.history(period=\"max\")\n",
    "data_ADBE = data_Ticker_ADBE.history(period=\"max\")\n",
    "data_CSCO = data_Ticker_CSCO.history(period=\"max\")\n",
    "data_IBM = data_Ticker_IBM.history(period=\"max\")\n",
    "data_NOW = data_Ticker_NOW.history(period=\"max\")\n",
    "data_QCOM = data_Ticker_QCOM.history(period=\"max\")\n",
    "data_TXN = data_Ticker_TXN.history(period=\"max\")\n",
    "data_UBER = data_Ticker_UBER.history(period=\"max\")\n",
    "data_ISRG = data_Ticker_ISRG.history(period=\"max\")\n"
   ]
  },
  {
   "cell_type": "code",
   "execution_count": 41,
   "id": "508caf2b-dfdb-4911-b5c0-8a25afdafabe",
   "metadata": {},
   "outputs": [
    {
     "name": "stdout",
     "output_type": "stream",
     "text": [
      "                                AAPL      NVDA        MSFT       GOOG  \\\n",
      "Date                                                                    \n",
      "2019-05-10 00:00:00-04:00  47.415096  4.190460  120.097176  57.939075   \n",
      "2019-05-13 00:00:00-04:00  44.659355  3.933055  116.526283  56.334675   \n",
      "2019-05-14 00:00:00-04:00  45.366329  4.022165  117.829933  55.757904   \n",
      "2019-05-15 00:00:00-04:00  45.909782  3.961103  119.489265  57.936085   \n",
      "2019-05-16 00:00:00-04:00  45.707802  3.976245  122.248459  58.671108   \n",
      "\n",
      "                                AMZN        META       AVGO       TSLA  \\\n",
      "Date                                                                     \n",
      "2019-05-10 00:00:00-04:00  94.499001  187.456528  25.560381  15.968000   \n",
      "2019-05-13 00:00:00-04:00  91.134003  180.688400  24.670698  15.134000   \n",
      "2019-05-14 00:00:00-04:00  92.005997  179.882187  25.395567  15.487333   \n",
      "2019-05-15 00:00:00-04:00  93.557503  185.396240  25.594866  15.463333   \n",
      "2019-05-16 00:00:00-04:00  95.378502  186.112854  24.999498  15.222000   \n",
      "\n",
      "                                ORCL        NFLX         CRM        AMD  \\\n",
      "Date                                                                      \n",
      "2019-05-10 00:00:00-04:00  50.040794  361.040009  159.051620  27.959999   \n",
      "2019-05-13 00:00:00-04:00  48.923691  345.260010  152.299347  26.240000   \n",
      "2019-05-14 00:00:00-04:00  49.564651  345.609985  157.192017  27.320000   \n",
      "2019-05-15 00:00:00-04:00  49.958382  354.989990  154.198715  27.580000   \n",
      "2019-05-16 00:00:00-04:00  50.031635  359.309998  157.599731  28.010000   \n",
      "\n",
      "                                 ADBE       CSCO        IBM         NOW  \\\n",
      "Date                                                                      \n",
      "2019-05-10 00:00:00-04:00  278.480011  44.431942  99.482582  274.899994   \n",
      "2019-05-13 00:00:00-04:00  267.700012  42.716618  96.615448  260.119995   \n",
      "2019-05-14 00:00:00-04:00  271.859985  43.316143  98.004906  272.070007   \n",
      "2019-05-15 00:00:00-04:00  276.820007  43.665871  98.806236  273.959991   \n",
      "2019-05-16 00:00:00-04:00  283.549988  46.571941  99.894295  277.959991   \n",
      "\n",
      "                                QCOM        TXN       UBER        ISRG  \n",
      "Date                                                                    \n",
      "2019-05-10 00:00:00-04:00  74.554649  95.956612  41.570000  165.103333  \n",
      "2019-05-13 00:00:00-04:00  72.860985  91.278107  37.099998  159.583328  \n",
      "2019-05-14 00:00:00-04:00  74.806496  92.922836  39.959999  162.449997  \n",
      "2019-05-15 00:00:00-04:00  74.919403  93.988052  41.290001  163.046661  \n",
      "2019-05-16 00:00:00-04:00  71.922981  93.067696  43.000000  163.910004  \n"
     ]
    }
   ],
   "source": [
    "# close_price_ISRG 값을 DataFrame으로 변환\n",
    "# 각 Ticker의 종가 데이터를 가져와 데이터프레임으로 변환\n",
    "df_AAPL = data_AAPL[['Close']].rename(columns={'Close': 'AAPL'})\n",
    "df_NVDA = data_NVDA[['Close']].rename(columns={'Close': 'NVDA'})\n",
    "df_MSFT = data_MSFT[['Close']].rename(columns={'Close': 'MSFT'})\n",
    "df_GOOG = data_GOOG[['Close']].rename(columns={'Close': 'GOOG'})\n",
    "df_AMZN = data_AMZN[['Close']].rename(columns={'Close': 'AMZN'})\n",
    "df_META = data_META[['Close']].rename(columns={'Close': 'META'})\n",
    "df_AVGO = data_AVGO[['Close']].rename(columns={'Close': 'AVGO'})\n",
    "df_TSLA = data_TSLA[['Close']].rename(columns={'Close': 'TSLA'})\n",
    "df_ORCL = data_ORCL[['Close']].rename(columns={'Close': 'ORCL'})\n",
    "df_NFLX = data_NFLX[['Close']].rename(columns={'Close': 'NFLX'})\n",
    "df_CRM = data_CRM[['Close']].rename(columns={'Close': 'CRM'})\n",
    "df_AMD = data_AMD[['Close']].rename(columns={'Close': 'AMD'})\n",
    "df_ADBE = data_ADBE[['Close']].rename(columns={'Close': 'ADBE'})\n",
    "df_CSCO = data_CSCO[['Close']].rename(columns={'Close': 'CSCO'})\n",
    "df_IBM = data_IBM[['Close']].rename(columns={'Close': 'IBM'})\n",
    "df_NOW = data_NOW[['Close']].rename(columns={'Close': 'NOW'})\n",
    "df_QCOM = data_QCOM[['Close']].rename(columns={'Close': 'QCOM'})\n",
    "df_TXN = data_TXN[['Close']].rename(columns={'Close': 'TXN'})\n",
    "df_UBER = data_UBER[['Close']].rename(columns={'Close': 'UBER'})\n",
    "df_ISRG = data_ISRG[['Close']].rename(columns={'Close': 'ISRG'})\n",
    "\n",
    "# 모든 데이터프레임을 병합 (날짜 기준으로)\n",
    "dfs = [df_AAPL, df_NVDA, df_MSFT, df_GOOG, df_AMZN, df_META, df_AVGO, df_TSLA,\n",
    "       df_ORCL, df_NFLX, df_CRM, df_AMD, df_ADBE, df_CSCO, df_IBM, df_NOW,\n",
    "       df_QCOM, df_TXN, df_UBER, df_ISRG]\n",
    "\n",
    "# 첫 번째 DataFrame을 기준으로 순서대로 병합\n",
    "merged_data = dfs[0]\n",
    "for df in dfs[1:]:\n",
    "    merged_data = merged_data.join(df, how='outer')\n",
    "\n",
    "#Remove All NaN\n",
    "merged_data_cleaned = merged_data.dropna(how='any')\n",
    "\n",
    "\n",
    "# 데이터 확인\n",
    "print(merged_data_cleaned.head())"
   ]
  },
  {
   "cell_type": "code",
   "execution_count": 43,
   "id": "f9b113de-d86c-4581-a8a2-19e12a510d95",
   "metadata": {},
   "outputs": [
    {
     "name": "stderr",
     "output_type": "stream",
     "text": [
      "<>:1: SyntaxWarning: invalid escape sequence '\\R'\n",
      "<>:1: SyntaxWarning: invalid escape sequence '\\R'\n",
      "/var/folders/y3/hdj2t3_15mx_fn68rfb4yf440000gn/T/ipykernel_5430/3844594915.py:1: SyntaxWarning: invalid escape sequence '\\R'\n",
      "  merged_data_cleaned.to_csv(path_or_buf ='.\\Resources', index=True)\n"
     ]
    }
   ],
   "source": [
    "merged_data_cleaned.to_csv(path_or_buf ='.\\Resources', index=True)"
   ]
  },
  {
   "cell_type": "code",
   "execution_count": null,
   "id": "12d83d33-0615-43dd-a988-98e0e2e737c5",
   "metadata": {},
   "outputs": [],
   "source": []
  }
 ],
 "metadata": {
  "kernelspec": {
   "display_name": "Python [conda env:base] *",
   "language": "python",
   "name": "conda-base-py"
  },
  "language_info": {
   "codemirror_mode": {
    "name": "ipython",
    "version": 3
   },
   "file_extension": ".py",
   "mimetype": "text/x-python",
   "name": "python",
   "nbconvert_exporter": "python",
   "pygments_lexer": "ipython3",
   "version": "3.12.7"
  }
 },
 "nbformat": 4,
 "nbformat_minor": 5
}
