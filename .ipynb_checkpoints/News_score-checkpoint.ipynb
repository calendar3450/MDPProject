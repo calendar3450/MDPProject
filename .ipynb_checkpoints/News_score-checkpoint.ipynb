{
 "cells": [
  {
   "cell_type": "code",
   "execution_count": 3,
   "id": "5f7c8494",
   "metadata": {},
   "outputs": [
    {
     "name": "stdout",
     "output_type": "stream",
     "text": [
      "Sent {'neg': 0.024, 'neu': 0.784, 'pos': 0.192, 'compound': 0.985}\n",
      "Compound:  0.985\n"
     ]
    }
   ],
   "source": [
    "import nltk\n",
    "import yfinance as yf\n",
    "\n",
    "from nltk.sentiment import SentimentIntensityAnalyzer\n",
    "\n",
    "sia = SentimentIntensityAnalyzer()\n",
    "\n",
    "# News: https://finance.yahoo.com/news/yum-brands-nyse-yum-ceo-173431140.html\n",
    "news_text = \"\"\"\n",
    "Yum! Brands is experiencing a significant transition as CEO David Gibbs announces his retirement. Despite broader market challenges, with major indexes like the S&P 500 and Nasdaq reflecting substantial declines over the past month, Yum! Brands' stock price rose 16% last quarter. This increase coincides with strong performance in its digital initiatives under Gibbs' tenure and recent positive developments such as the launch of AI solutions, a new product line, and a dividend increase. While the market faced volatility, YUM maintained an upward trajectory, indicating that these strategic moves positively influenced investor sentiment.\n",
    "We ve identified 4 possible red flags with Yum! Brands (at least 2 which are a bit concerning) and understanding the impact should be part of your investment process.\n",
    "Despite challenges like geopolitical disruptions impacting KFC's same-store sales, Yum! Brands outperformed the US Hospitality industry, which returned 1.3% over the past year. Shareholder returns were also supported by share buybacks, with nearly 3 million shares repurchased since mid-2024, indicating confidence in the company’s growth trajectory. These factors, alongside strategic leadership transitions, underscore the company's sustained upward momentum amid fluctuating market conditions. \"\n",
    "\"\"\"\n",
    "\n",
    "# neg : negative, neu: neutural, pos: postive, compound : score which is positive or negative. (Score range: -1 ~ 1)\n",
    "sentiment_scores = sia.polarity_scores(news_text)\n",
    "\n",
    "print('Sent', sentiment_scores)\n",
    "print('Compound: ',sentiment_scores.get('compound',0.0))"
   ]
  },
  {
   "cell_type": "code",
   "execution_count": 5,
   "id": "b253044f-58a8-445a-a849-69530409e3e4",
   "metadata": {},
   "outputs": [
    {
     "name": "stdout",
     "output_type": "stream",
     "text": [
      "[\"Julie Hyman and Josh Lipton preview the biggest market stories and economic data to come out on Wednesday, April 30, including the latest earnings results from Microsoft (MSFT), Meta Platforms (META), Qualcomm (QCOM), Robinhood Markets (HOOD), and Stellantis (STLA), as well as April's Personal Consumption Expenditures (PCE) index. To watch more expert insights and analysis on the latest market action, check out more Market Domination Overtime&nbsp;here.\", \"YUM's first-quarter 2025 results are likely to gain from strong same-store sales growth, expansion of units and a stellar performance from KFC.\", 'Fast-food company Yum! Brands (NYSE:YUM) will be reporting earnings tomorrow morning. Here’s what you need to know.', \"Tariffs are weighing not just on companies and stocks, but consumers too. Many are concerned about the potential of inflation rising and the economy slowing down. Placer.ai head of analytical research R.J. Hottovy shares what they are seeing reflected in foot traffic to some of the nation's biggest retailers and restaurant chains. To watch more expert insights and analysis on the latest market action, check out more Asking for a Trend here.\", \"Beyond analysts' top -and-bottom-line estimates for Yum (YUM), evaluate projections for some of its key metrics to gain a better insight into how the business might have performed for the quarter ended March 2025.\", 'Earnings preview of key companies reporting next week and what to look out for.', \"McDonald's (MCD) possesses the right combination of the two key ingredients for a likely earnings beat in its upcoming report. Get prepared with the key expectations.\", 'Chipotle CEO Scott Boatwright talks tariffs, price increases, and more.', 'Can TGI Fridays be saved? One person is betting it can.', \"Yum (YUM) doesn't possess the right combination of the two key ingredients for a likely earnings beat in its upcoming report. Get prepared with the key expectations.\"]\n"
     ]
    }
   ],
   "source": [
    "ticker = yf.Ticker(\"YUM\")\n",
    "summaryList=[]\n",
    "for article in ticker.news:\n",
    "    summaryList.append(article[\"content\"][\"summary\"])\n",
    "    \n",
    "print(summaryList)"
   ]
  },
  {
   "cell_type": "code",
   "execution_count": 7,
   "id": "69d537ae-e83a-4808-a269-221bcf3649eb",
   "metadata": {},
   "outputs": [
    {
     "name": "stdout",
     "output_type": "stream",
     "text": [
      "[0.1585, 0.8519, 0.0, 0.4215, 0.7964, 0.0, 0.2263, 0.0, 0.4215, 0.2263]\n"
     ]
    }
   ],
   "source": [
    "totalScore = []\n",
    "\n",
    "for i in summaryList:\n",
    "    sentiment_scores = sia.polarity_scores(i)\n",
    "    totalScore.append(sentiment_scores)\n",
    "    \n",
    "compoundScore = [s['compound'] for s in totalScore]\n",
    "print(compoundScore)"
   ]
  },
  {
   "cell_type": "code",
   "execution_count": 9,
   "id": "a6d6fb3f-5351-4c91-8227-a8615150623b",
   "metadata": {},
   "outputs": [
    {
     "name": "stdout",
     "output_type": "stream",
     "text": [
      "- {'neg': 0.022, 'neu': 0.947, 'pos': 0.031, 'compound': 0.1585}\n",
      "= Julie Hyman and Josh Lipton preview the biggest market stories and economic data to come out on Wednesday, April 30, including the latest earnings results from Microsoft (MSFT), Meta Platforms (META), Qualcomm (QCOM), Robinhood Markets (HOOD), and Stellantis (STLA), as well as April's Personal Consumption Expenditures (PCE) index. To watch more expert insights and analysis on the latest market action, check out more Market Domination Overtime&nbsp;here.\n",
      "- {'neg': 0.0, 'neu': 0.659, 'pos': 0.341, 'compound': 0.8519}\n",
      "= YUM's first-quarter 2025 results are likely to gain from strong same-store sales growth, expansion of units and a stellar performance from KFC.\n",
      "- {'neg': 0.0, 'neu': 1.0, 'pos': 0.0, 'compound': 0.0}\n",
      "= Fast-food company Yum! Brands (NYSE:YUM) will be reporting earnings tomorrow morning. Here’s what you need to know.\n",
      "- {'neg': 0.0, 'neu': 0.962, 'pos': 0.038, 'compound': 0.4215}\n",
      "= Tariffs are weighing not just on companies and stocks, but consumers too. Many are concerned about the potential of inflation rising and the economy slowing down. Placer.ai head of analytical research R.J. Hottovy shares what they are seeing reflected in foot traffic to some of the nation's biggest retailers and restaurant chains. To watch more expert insights and analysis on the latest market action, check out more Asking for a Trend here.\n",
      "- {'neg': 0.0, 'neu': 0.787, 'pos': 0.213, 'compound': 0.7964}\n",
      "= Beyond analysts' top -and-bottom-line estimates for Yum (YUM), evaluate projections for some of its key metrics to gain a better insight into how the business might have performed for the quarter ended March 2025.\n",
      "- {'neg': 0.0, 'neu': 1.0, 'pos': 0.0, 'compound': 0.0}\n",
      "= Earnings preview of key companies reporting next week and what to look out for.\n",
      "- {'neg': 0.0, 'neu': 0.927, 'pos': 0.073, 'compound': 0.2263}\n",
      "= McDonald's (MCD) possesses the right combination of the two key ingredients for a likely earnings beat in its upcoming report. Get prepared with the key expectations.\n",
      "- {'neg': 0.0, 'neu': 1.0, 'pos': 0.0, 'compound': 0.0}\n",
      "= Chipotle CEO Scott Boatwright talks tariffs, price increases, and more.\n",
      "- {'neg': 0.0, 'neu': 0.781, 'pos': 0.219, 'compound': 0.4215}\n",
      "= Can TGI Fridays be saved? One person is betting it can.\n",
      "- {'neg': 0.0, 'neu': 0.929, 'pos': 0.071, 'compound': 0.2263}\n",
      "= Yum (YUM) doesn't possess the right combination of the two key ingredients for a likely earnings beat in its upcoming report. Get prepared with the key expectations.\n",
      "0.31023999999999996\n"
     ]
    }
   ],
   "source": [
    "for j,k in enumerate(totalScore):\n",
    "    print('-',k)\n",
    "    print('=',summaryList[j])\n",
    "    \n",
    "avgCompound = sum(compoundScore)/len(compoundScore)\n",
    "print(avgCompound)"
   ]
  }
 ],
 "metadata": {
  "kernelspec": {
   "display_name": "Python [conda env:base] *",
   "language": "python",
   "name": "conda-base-py"
  },
  "language_info": {
   "codemirror_mode": {
    "name": "ipython",
    "version": 3
   },
   "file_extension": ".py",
   "mimetype": "text/x-python",
   "name": "python",
   "nbconvert_exporter": "python",
   "pygments_lexer": "ipython3",
   "version": "3.12.7"
  }
 },
 "nbformat": 4,
 "nbformat_minor": 5
}
