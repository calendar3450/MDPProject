{
 "cells": [
  {
   "cell_type": "code",
   "execution_count": 12,
   "id": "f0181164",
   "metadata": {},
   "outputs": [
    {
     "name": "stdout",
     "output_type": "stream",
     "text": [
      "감성 점수: {'neg': 0.024, 'neu': 0.784, 'pos': 0.192, 'compound': 0.985}\n"
     ]
    },
    {
     "name": "stderr",
     "output_type": "stream",
     "text": [
      "[nltk_data] Downloading package vader_lexicon to /Users/minjeong-\n",
      "[nltk_data]     gi/nltk_data...\n",
      "[nltk_data]   Package vader_lexicon is already up-to-date!\n"
     ]
    }
   ],
   "source": [
    "import nltk\n",
    "nltk.download('vader_lexicon')  # VADER 사전을 다운로드합니다.\n",
    "\n",
    "from nltk.sentiment import SentimentIntensityAnalyzer\n",
    "\n",
    "sia = SentimentIntensityAnalyzer()\n",
    "\n",
    "# News: https://finance.yahoo.com/news/yum-brands-nyse-yum-ceo-173431140.html\n",
    "news_text = \"\"\"\n",
    "Yum! Brands is experiencing a significant transition as CEO David Gibbs announces his retirement. Despite broader market challenges, with major indexes like the S&P 500 and Nasdaq reflecting substantial declines over the past month, Yum! Brands' stock price rose 16% last quarter. This increase coincides with strong performance in its digital initiatives under Gibbs' tenure and recent positive developments such as the launch of AI solutions, a new product line, and a dividend increase. While the market faced volatility, YUM maintained an upward trajectory, indicating that these strategic moves positively influenced investor sentiment.\n",
    "We ve identified 4 possible red flags with Yum! Brands (at least 2 which are a bit concerning) and understanding the impact should be part of your investment process.\n",
    "Despite challenges like geopolitical disruptions impacting KFC's same-store sales, Yum! Brands outperformed the US Hospitality industry, which returned 1.3% over the past year. Shareholder returns were also supported by share buybacks, with nearly 3 million shares repurchased since mid-2024, indicating confidence in the company’s growth trajectory. These factors, alongside strategic leadership transitions, underscore the company's sustained upward momentum amid fluctuating market conditions. \"\n",
    "\"\"\"\n",
    "\n",
    "# neg : negative, neu: neutural, pos: postive, compound : score which is positive or negative. (Score range: -1 ~ 1)\n",
    "sentiment_scores = sia.polarity_scores(news_text)\n",
    "\n",
    "print(\"감성 점수:\", sentiment_scores)"
   ]
  }
 ],
 "metadata": {
  "kernelspec": {
   "display_name": "Python 3 (ipykernel)",
   "language": "python",
   "name": "python3"
  },
  "language_info": {
   "codemirror_mode": {
    "name": "ipython",
    "version": 3
   },
   "file_extension": ".py",
   "mimetype": "text/x-python",
   "name": "python",
   "nbconvert_exporter": "python",
   "pygments_lexer": "ipython3",
   "version": "3.9.13"
  }
 },
 "nbformat": 4,
 "nbformat_minor": 5
}
